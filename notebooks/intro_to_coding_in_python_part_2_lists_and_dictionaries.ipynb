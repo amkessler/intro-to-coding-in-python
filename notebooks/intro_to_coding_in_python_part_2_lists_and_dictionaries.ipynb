{
 "cells": [
  {
   "cell_type": "markdown",
   "metadata": {
    "collapsed": true
   },
   "source": [
    "# Introduction to Coding in Python, Part 2\n",
    "Investigative Reporters and Editors Conference, New Orleans, June 2016<br />\n",
    "By Aaron Kessler and Christopher Schnaars\n",
    "\n",
    "This file contains both explanatory headers and all code.<br />"
   ]
  },
  {
   "cell_type": "markdown",
   "metadata": {},
   "source": [
    "## Lists\n",
    "A *list* is a *mutable* (meaning it can be changed), *ordered* collection of objects. Everything in Python is an *object*, so a list can contain not only strings and numbers, but also functions and even other lists. (A list containing lists is Python's way of storing a multi-dimensional array. If you have no idea what that means, don't worry about it. We're moving on!)\n",
    "\n",
    "Let's start with a basic list of new friends we've made at the IRE conference. Note the use of brackets, which is how we tell Python we're building a `list`:"
   ]
  },
  {
   "cell_type": "code",
   "execution_count": null,
   "metadata": {
    "collapsed": true
   },
   "outputs": [],
   "source": [
    "my_friends = ['Aaron', 'Sue', 'Chris', 'Renee']"
   ]
  },
  {
   "cell_type": "markdown",
   "metadata": {},
   "source": [
    "We can see that Python remembers the order of the names:"
   ]
  },
  {
   "cell_type": "code",
   "execution_count": null,
   "metadata": {
    "collapsed": false
   },
   "outputs": [],
   "source": [
    "my_friends"
   ]
  },
  {
   "cell_type": "markdown",
   "metadata": {},
   "source": [
    "We met Cora at an awesome Python class we just attended, so let's `append` her to our list of friends. Note the use of parentheses here rather than brackets:"
   ]
  },
  {
   "cell_type": "code",
   "execution_count": null,
   "metadata": {
    "collapsed": false
   },
   "outputs": [],
   "source": [
    "my_friends.append('Cora')\n",
    "my_friends"
   ]
  },
  {
   "cell_type": "markdown",
   "metadata": {},
   "source": [
    "**Nerd Stuff:** `append` in the code above is a method. A *method* is a bit of code associated with a Python object (in this case, our list) to provide some built-in functionality. Every time you create a list in Python, you get the functionality of the `append` method (and a bunch of other methods, too) for free.\n",
    "\n",
    "Back to lists.\n",
    "\n",
    "We can add Cora to our list of friends because lists are *mutable*. Some objects, like strings, are *immutable*. You can't `append` a string. If you try, Python will yell at you. Instead, you must completely rebuild the string from scratch:"
   ]
  },
  {
   "cell_type": "code",
   "execution_count": null,
   "metadata": {
    "collapsed": false
   },
   "outputs": [],
   "source": [
    "my_string = 'Cora'\n",
    "'''\n",
    "Python will raise an error if you try something like this: my_string.append(' is my friend.')\n",
    "Strings do not have an append method.\n",
    "'''\n",
    "my_string = my_string + ' is my friend.'"
   ]
  },
  {
   "cell_type": "markdown",
   "metadata": {},
   "source": [
    "In lists, you can retrieve a single item by *index*. For example, let's say we only want the first name in our list (Aaron). We could try something like this:"
   ]
  },
  {
   "cell_type": "code",
   "execution_count": null,
   "metadata": {
    "collapsed": false
   },
   "outputs": [],
   "source": [
    "my_friends[1]"
   ]
  },
  {
   "cell_type": "markdown",
   "metadata": {},
   "source": [
    "*Huh?!?!* That didn't work as expected. This is because indexing in Python is always *zero-based*, which basically just means the first item in a collection is at position 0, the second item is at position 1 and so on. If that sounds confusing, don't worry about it. There actually are very good, logical reasons for this behavior that we won't dive into here. For now, just accept it. We're moving on!\n",
    "\n",
    "So we get Aaron by requesting index 0 from our list:"
   ]
  },
  {
   "cell_type": "code",
   "execution_count": null,
   "metadata": {
    "collapsed": false
   },
   "outputs": [],
   "source": [
    "my_friends[0]"
   ]
  },
  {
   "cell_type": "markdown",
   "metadata": {},
   "source": [
    "Much better!\n",
    "\n",
    "We also can retrieve a *slice* of names. This output is another `list`:"
   ]
  },
  {
   "cell_type": "code",
   "execution_count": null,
   "metadata": {
    "collapsed": false
   },
   "outputs": [],
   "source": [
    "my_friends[0:3]"
   ]
  },
  {
   "cell_type": "markdown",
   "metadata": {},
   "source": [
    "If we want to translate the above statement into English, we'd say: \"From my_friends, give me a list of names from the name at index 0 up to, but not including, the name at index 3.\" We realize the \"up to, but not including\" part is confusing. Let's dive into the weeds for just a moment:\n",
    "\n",
    "When you type this:<br />\n",
    "`my_friends`\n",
    "\n",
    "It means the same as this:<br />\n",
    "`my_friends[0:`*length_of_our_list*`]`\n",
    "\n",
    "In this example, the length of our list is 5 because we have 5 names.\n",
    "\n",
    "So in English, we're saying: \"From my_friends, give me a list of names from the name at index 0 up to, but not including, the name at index 5.\" This gives us the entire list without raising an error (because there is no name at index 5; remember that indices are zero-based). You also could type `my_friends[:]`\n",
    "\n",
    "Go ahead and try it!"
   ]
  },
  {
   "cell_type": "code",
   "execution_count": null,
   "metadata": {
    "collapsed": false
   },
   "outputs": [],
   "source": [
    "my_friends[:]"
   ]
  },
  {
   "cell_type": "markdown",
   "metadata": {},
   "source": [
    "## Mutable objects\n",
    "In other programming languages, it's common to *assign* a value (such as a number, string or list) to a variable. Python works a bit differently. In our example above, Python creates a list in memory to house the names of our friends and then creates the object *my_friends* to *point* to this list. Why is that important? Well, for one thing, it means that if we make a copy of a list, Python keeps only one list in memory and just creates a second pointer. While this is not a concern in our example code, it might matter for a large list containing hundreds or even thousands of objects:"
   ]
  },
  {
   "cell_type": "code",
   "execution_count": null,
   "metadata": {
    "collapsed": false
   },
   "outputs": [],
   "source": [
    "your_friends = my_friends\n",
    "print('My friends are: ')\n",
    "print(my_friends)\n",
    "\n",
    "print('\\nAnd your friends are: ') # \\n is code for newline.\n",
    "print(your_friends)"
   ]
  },
  {
   "cell_type": "markdown",
   "metadata": {},
   "source": [
    "Here's where mutability will bite you, if you're not careful. You haven't met Cora yet and don't know how nice she is, so you decide to remove her from your list of friends, at least for now:"
   ]
  },
  {
   "cell_type": "code",
   "execution_count": null,
   "metadata": {
    "collapsed": false
   },
   "outputs": [],
   "source": [
    "your_friends.remove('Cora')\n",
    "your_friends"
   ]
  },
  {
   "cell_type": "markdown",
   "metadata": {},
   "source": [
    "You also can get rid of list items by index. For purposes of this exercise, let's drop Renee, too."
   ]
  },
  {
   "cell_type": "code",
   "execution_count": null,
   "metadata": {
    "collapsed": false
   },
   "outputs": [],
   "source": [
    "del your_friends[3]\n",
    "your_friends"
   ]
  },
  {
   "cell_type": "markdown",
   "metadata": {},
   "source": [
    "Perfect! Or is it? Let's take another look at my_friends:"
   ]
  },
  {
   "cell_type": "code",
   "execution_count": null,
   "metadata": {
    "collapsed": false
   },
   "outputs": [],
   "source": [
    "my_friends"
   ]
  },
  {
   "cell_type": "markdown",
   "metadata": {},
   "source": [
    "Uh-oh! You've unfriended Cora and Renee for me too! Remember that my_friends and your_friends are just `pointers` to the same list, so when you change one, you're really changing both. If you want the two lists to be independent, you must explicitly make a copy using, you guessed it, the `copy` *method*. Let's add Cora and Renee back in, make a copy and then remove them just from the copy."
   ]
  },
  {
   "cell_type": "code",
   "execution_count": null,
   "metadata": {
    "collapsed": false
   },
   "outputs": [],
   "source": [
    "my_friends.append('Renee')\n",
    "my_friends.append('Cora')\n",
    "print('My friends:\\n')\n",
    "print(my_friends)\n",
    "your_friends = my_friends.copy() # copy() is another method!\n",
    "your_friends.remove('Cora')\n",
    "your_friends.remove('Renee')\n",
    "print('\\nIs Cora still my friend?')\n",
    "print(my_friends)\n",
    "\n",
    "print('Yes she is!\\n\\nAnd your friends are: ')\n",
    "print(your_friends)"
   ]
  },
  {
   "cell_type": "markdown",
   "metadata": {},
   "source": [
    "## Dictionaries\n",
    "In Python, a dictionary is a *mutable, unordered* collection of key-value pairs. Consider:"
   ]
  },
  {
   "cell_type": "code",
   "execution_count": null,
   "metadata": {
    "collapsed": true
   },
   "outputs": [],
   "source": [
    "friend = {'last_name': 'Schnaars', 'first_name': 'Christopher', 'works_for': 'USA Today', 'favorite_food': 'spam'}"
   ]
  },
  {
   "cell_type": "markdown",
   "metadata": {},
   "source": [
    "Note that our data is enclosed in curly braces rather than square brackets. This tells Python we are building a dictionary rather than a list. The keys we've specified are `last_name`, `first_name`, `works_for` and `favorite_food`, and the values assigned to those keys are `Schnaars`, `Chris`, `USA Today` and `spam` respectively.<br />\n",
    "<br />\n",
    "Now notice what happens when we ask Python to spit this information back to us:"
   ]
  },
  {
   "cell_type": "code",
   "execution_count": null,
   "metadata": {
    "collapsed": false
   },
   "outputs": [],
   "source": [
    "friend"
   ]
  },
  {
   "cell_type": "markdown",
   "metadata": {},
   "source": [
    "Notice that Python did not return the list of key-value pairs in the same order as we entered them. Remember that dictionaries are *unordered* collections. This might bother you, but it shouldn't. You'll find that in practice, it is not a problem. Because the order is irrelevant, you can't access a value by index as you might with a `list`, so something like `friend[0]` will not work.\n",
    "\n",
    "You might notice that the above keys are listed in alphabetical order. This is **not** always the case. You can't assume keys will be in alphabetical or any other particular order. If this is something you want, use Python's built-in `sorted` function:"
   ]
  },
  {
   "cell_type": "code",
   "execution_count": null,
   "metadata": {
    "collapsed": false
   },
   "outputs": [],
   "source": [
    "sorted(friend.items())"
   ]
  },
  {
   "cell_type": "markdown",
   "metadata": {
    "collapsed": true
   },
   "source": [
    "To add a new key-value pair, simply put the new key in brackets and assign the value with an = sign:"
   ]
  },
  {
   "cell_type": "code",
   "execution_count": null,
   "metadata": {
    "collapsed": false
   },
   "outputs": [],
   "source": [
    "friend['favorite_sketch'] = 'Spanish Inquisition'\n",
    "friend"
   ]
  },
  {
   "cell_type": "markdown",
   "metadata": {},
   "source": [
    "To replace an existing value, simply re-assign it:"
   ]
  },
  {
   "cell_type": "code",
   "execution_count": null,
   "metadata": {
    "collapsed": false
   },
   "outputs": [],
   "source": [
    "friend['first_name'] = 'Chris'\n",
    "friend"
   ]
  },
  {
   "cell_type": "markdown",
   "metadata": {},
   "source": [
    "To see a list of keys contained in a dictionary, use the `keys` method:"
   ]
  },
  {
   "cell_type": "code",
   "execution_count": null,
   "metadata": {
    "collapsed": false
   },
   "outputs": [],
   "source": [
    "friend.keys()"
   ]
  },
  {
   "cell_type": "markdown",
   "metadata": {},
   "source": [
    "To get a *list* of key-value pairs, use the `items` method:"
   ]
  },
  {
   "cell_type": "code",
   "execution_count": null,
   "metadata": {
    "collapsed": false
   },
   "outputs": [],
   "source": [
    "friend.items()"
   ]
  },
  {
   "cell_type": "markdown",
   "metadata": {},
   "source": [
    "**Nerd Stuff:** If you find all those brackets and parentheses in the last two outputs confusing, here's what's going on. The inner parentheses -- i.e., `('first_name', 'Chris')` -- are called `tuples`. A tuple is essentially the same as a list, but it is `immutable`. That doesn't mean you can't change keys and values, but you can't change them via `friend.items()`. All of these tuples are housed inside a `list`, which itself is the sole object inside another tuple (the outer parentheses). Phew!\n",
    "\n",
    "We've been assigning `strings` to all the keys in our dictionary so far, but just like the items in a `list`, a value assigned to a dictionary key can be any object, such as a number, a list or even another dictionary:"
   ]
  },
  {
   "cell_type": "code",
   "execution_count": null,
   "metadata": {
    "collapsed": false
   },
   "outputs": [],
   "source": [
    "friend['friends'] = my_friends\n",
    "friend"
   ]
  },
  {
   "cell_type": "markdown",
   "metadata": {},
   "source": [
    "A `key` does not need to be a string -- it could be a number, for example -- but it must be `immutable`. That means a `dictionary` key couldn't be a `list` or another `dictionary`."
   ]
  }
 ],
 "metadata": {
  "kernelspec": {
   "display_name": "Python 3",
   "language": "python",
   "name": "python3"
  },
  "language_info": {
   "codemirror_mode": {
    "name": "ipython",
    "version": 3
   },
   "file_extension": ".py",
   "mimetype": "text/x-python",
   "name": "python",
   "nbconvert_exporter": "python",
   "pygments_lexer": "ipython3",
   "version": "3.4.4"
  }
 },
 "nbformat": 4,
 "nbformat_minor": 0
}
