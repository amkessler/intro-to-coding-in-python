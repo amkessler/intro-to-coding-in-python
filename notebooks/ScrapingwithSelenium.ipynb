{
 "cells": [
  {
   "cell_type": "code",
   "execution_count": 3,
   "metadata": {
    "collapsed": false
   },
   "outputs": [
    {
     "name": "stdout",
     "output_type": "stream",
     "text": [
      "Loading the first page\n",
      "Selecting the dropdown\n",
      "Selecting last names that start with 'x'\n",
      "Clicking the search button\n",
      "Trying a new page\n"
     ]
    },
    {
     "ename": "TypeError",
     "evalue": "a bytes-like object is required, not 'str'",
     "output_type": "error",
     "traceback": [
      "\u001b[1;31m---------------------------------------------------------------------------\u001b[0m",
      "\u001b[1;31mTypeError\u001b[0m                                 Traceback (most recent call last)",
      "\u001b[1;32m<ipython-input-3-6f0d744e649c>\u001b[0m in \u001b[0;36m<module>\u001b[1;34m()\u001b[0m\n\u001b[0;32m     60\u001b[0m         \u001b[0mdata_from_page\u001b[0m \u001b[1;33m=\u001b[0m \u001b[0mget_data\u001b[0m\u001b[1;33m(\u001b[0m\u001b[0mdriver\u001b[0m\u001b[1;33m.\u001b[0m\u001b[0mpage_source\u001b[0m\u001b[1;33m)\u001b[0m\u001b[1;33m\u001b[0m\u001b[0m\n\u001b[0;32m     61\u001b[0m         \u001b[1;31m# Write them to the CSV\u001b[0m\u001b[1;33m\u001b[0m\u001b[1;33m\u001b[0m\u001b[0m\n\u001b[1;32m---> 62\u001b[1;33m         \u001b[0mwriter\u001b[0m\u001b[1;33m.\u001b[0m\u001b[0mwriterows\u001b[0m\u001b[1;33m(\u001b[0m\u001b[0mdata_from_page\u001b[0m\u001b[1;33m)\u001b[0m\u001b[1;33m\u001b[0m\u001b[0m\n\u001b[0m\u001b[0;32m     63\u001b[0m         \u001b[1;31m# Go to the next page\u001b[0m\u001b[1;33m\u001b[0m\u001b[1;33m\u001b[0m\u001b[0m\n\u001b[0;32m     64\u001b[0m         \u001b[1;32mtry\u001b[0m\u001b[1;33m:\u001b[0m\u001b[1;33m\u001b[0m\u001b[0m\n",
      "\u001b[1;31mTypeError\u001b[0m: a bytes-like object is required, not 'str'"
     ]
    }
   ],
   "source": [
    "# this is the boilerplate import language needed to get Selenium\n",
    "# up and running. \n",
    "\n",
    "from selenium import webdriver\n",
    "from selenium.webdriver.common.keys import Keys\n",
    "from selenium.webdriver.support.ui import Select\n",
    "from selenium.webdriver.support.ui import WebDriverWait\n",
    "from lxml import html\n",
    "import csv\n",
    "\n",
    "# -*- coding: utf-8 -*-\n",
    "\n",
    "# here, we create a function to go to the next page of our target site\n",
    "def go_to_next_page():\n",
    "    next_page_link = driver.find_element_by_xpath('//table[@id=\"datagrid_results\"]//tr//td//span/following-sibling::a')\n",
    "    print (\"Going to page\", next_page_link.text)\n",
    "    next_page_link.click()\n",
    "\n",
    "# here we loop through the rows to capture the data from the table at our target page\n",
    "def get_data(source):\n",
    "    texts = []\n",
    "    # convert the page source into something lxml can parse\n",
    "    content = html.fromstring(source)\n",
    "    # grab all of the rows from the data table\n",
    "    rows = content.xpath(\".//table[@id='datagrid_results']//tr\")\n",
    "    # loop through each of the rows to get the content\n",
    "    for row in rows:\n",
    "        columns = row.xpath(\".//td\")\n",
    "        text = [col.text_content().encode(\"utf-8\") for col in columns]\n",
    "        texts.append(text)\n",
    "    # Remove the first and last columns (header + pagination)\n",
    "    return texts[1:-1]\n",
    "\n",
    "\n",
    "# Load the first page\n",
    "print (\"Loading the first page\")\n",
    "driver = webdriver.Firefox()\n",
    "driver.get(\"http://www.licensepa.state.pa.us/\")\n",
    "\n",
    "# Select medicine and surgery\n",
    "print (\"Selecting the dropdown\")\n",
    "dropdown = Select(driver.find_element_by_name(\"t_web_lookup__license_type_name\"))\n",
    "dropdown.select_by_value(\"Medical Physician and Surgeon\")\n",
    "\n",
    "# Here we'll enter a last name letter and wildcard\n",
    "currentletter = \"x\"\n",
    "print (\"Selecting last names that start with '\" + currentletter + \"'\")\n",
    "textinput = driver.find_element_by_name(\"t_web_lookup__last_name\")\n",
    "textinput.send_keys(currentletter + \"*\")\n",
    "\n",
    "\n",
    "# Click the search button\n",
    "print (\"Clicking the search button\")\n",
    "search_button = driver.find_element_by_id(\"sch_button\")\n",
    "search_button.click()\n",
    "\n",
    "failed = False\n",
    "currentcsv = \"pa-\" + currentletter + \".csv\"\n",
    "with open(currentcsv, \"w\") as output:\n",
    "    writer = csv.writer(output, delimiter=',')\n",
    "    \n",
    "    while not failed:\n",
    "        print (\"Trying a new page\")\n",
    "        # Get the data on the page\n",
    "        data_from_page = get_data(driver.page_source)\n",
    "        # Write them to the CSV\n",
    "        writer.writerows(data_from_page)\n",
    "        # Go to the next page\n",
    "        try:\n",
    "            # And then it just loops back up\n",
    "            go_to_next_page()\n",
    "        except:\n",
    "            # But it goes into here if it can't find the next link\n",
    "            failed = True\n",
    "\n",
    "print (\"This job processed successfully.\")    \n",
    "print (\"Names with the letter '\" + currentletter + \"' are done!\")\n",
    "\n",
    "\n",
    "driver.close()"
   ]
  }
 ],
 "metadata": {
  "kernelspec": {
   "display_name": "Python 2",
   "language": "python",
   "name": "python2"
  },
  "language_info": {
   "codemirror_mode": {
    "name": "ipython",
    "version": 2
   },
   "file_extension": ".py",
   "mimetype": "text/x-python",
   "name": "python",
   "nbconvert_exporter": "python",
   "pygments_lexer": "ipython2",
   "version": "2.7.9"
  }
 },
 "nbformat": 4,
 "nbformat_minor": 0
}
