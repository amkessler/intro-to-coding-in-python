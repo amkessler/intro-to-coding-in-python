{
 "cells": [
  {
   "cell_type": "markdown",
   "metadata": {
    "collapsed": true
   },
   "source": [
    "# Introduction to Coding in Python, Part 2\n",
    "Investigative Reporters and Editors Conference, New Orleans, June 2016<br />\n",
    "By Aaron Kessler and Christopher Schnaars\n",
    "\n",
    "This file contains both explanatory headers and all code.<br /><br />"
   ]
  },
  {
   "cell_type": "markdown",
   "metadata": {},
   "source": [
    "## Lists\n",
    "A *list* is a *mutable* (meaning it can be changed), *ordered* collection of objects. Everything in Python is an *object*, so a list can contain not only strings and numbers, but also functions and even other lists. (A list containing lists is Python's way of storing a multi-dimensional array. If you have no idea what that means, don't worry about it. We're moving on!)\n",
    "\n",
    "Let's start with a basic list of new friends we've made at the IRE conference. Note the use of brackets:"
   ]
  },
  {
   "cell_type": "code",
   "execution_count": 1,
   "metadata": {
    "collapsed": true
   },
   "outputs": [],
   "source": [
    "my_friends = ['Aaron', 'Sue', 'Chris', 'Renee']"
   ]
  },
  {
   "cell_type": "markdown",
   "metadata": {},
   "source": [
    "Note that Python remembers the order of the names:"
   ]
  },
  {
   "cell_type": "code",
   "execution_count": 2,
   "metadata": {
    "collapsed": false
   },
   "outputs": [
    {
     "data": {
      "text/plain": [
       "['Aaron', 'Sue', 'Chris', 'Renee']"
      ]
     },
     "execution_count": 2,
     "metadata": {},
     "output_type": "execute_result"
    }
   ],
   "source": [
    "my_friends"
   ]
  },
  {
   "cell_type": "markdown",
   "metadata": {},
   "source": [
    "We just met Cora at an awesome Python class we just attended, so let's `append` her to our list of friends. Note the use of parentheses here rather than brackets."
   ]
  },
  {
   "cell_type": "code",
   "execution_count": 3,
   "metadata": {
    "collapsed": false
   },
   "outputs": [
    {
     "data": {
      "text/plain": [
       "['Aaron', 'Sue', 'Chris', 'Renee', 'Cora']"
      ]
     },
     "execution_count": 3,
     "metadata": {},
     "output_type": "execute_result"
    }
   ],
   "source": [
    "my_friends.append('Cora')\n",
    "my_friends"
   ]
  },
  {
   "cell_type": "markdown",
   "metadata": {},
   "source": [
    "**Nerd Stuff:** A *method* is a bit of code associated with a Python object (in this case, our list) to provide some built-in functionality. Every time you create a list in Python, you get the functionality of the `append` method (and a bunch of other methods, too) for free.\n",
    "\n",
    "Back to lists.\n",
    "\n",
    "We can add Cora to our list of friends because lists are *mutable*. Some objects, like strings, are *immutable*. You can't `append` a string. If you try, Python will yell at you:"
   ]
  },
  {
   "cell_type": "code",
   "execution_count": 4,
   "metadata": {
    "collapsed": false
   },
   "outputs": [
    {
     "ename": "AttributeError",
     "evalue": "'str' object has no attribute 'append'",
     "traceback": [
      "\u001b[1;31m---------------------------------------------------------------------------\u001b[0m",
      "\u001b[1;31mAttributeError\u001b[0m                            Traceback (most recent call last)",
      "\u001b[1;32m<ipython-input-4-6e46a72e37ff>\u001b[0m in \u001b[0;36m<module>\u001b[1;34m()\u001b[0m\n\u001b[0;32m      1\u001b[0m \u001b[0mmy_string\u001b[0m \u001b[1;33m=\u001b[0m \u001b[1;34m'Cora'\u001b[0m\u001b[1;33m\u001b[0m\u001b[0m\n\u001b[1;32m----> 2\u001b[1;33m \u001b[0mmy_string\u001b[0m\u001b[1;33m.\u001b[0m\u001b[0mappend\u001b[0m\u001b[1;33m(\u001b[0m\u001b[1;34m' is my friend.'\u001b[0m\u001b[1;33m)\u001b[0m\u001b[1;33m\u001b[0m\u001b[0m\n\u001b[0m",
      "\u001b[1;31mAttributeError\u001b[0m: 'str' object has no attribute 'append'"
     ],
     "output_type": "error"
    }
   ],
   "source": [
    "my_string = 'Cora'\n",
    "my_string.append(' is my friend.')"
   ]
  },
  {
   "cell_type": "markdown",
   "metadata": {},
   "source": [
    "You can't change a string, but you can rebuild it completely from scratch:"
   ]
  },
  {
   "cell_type": "code",
   "execution_count": 5,
   "metadata": {
    "collapsed": false
   },
   "outputs": [
    {
     "data": {
      "text/plain": [
       "'Cora is my friend.'"
      ]
     },
     "execution_count": 5,
     "metadata": {},
     "output_type": "execute_result"
    }
   ],
   "source": [
    "my_string = my_string + ' is my friend.'\n",
    "my_string"
   ]
  },
  {
   "cell_type": "markdown",
   "metadata": {},
   "source": [
    "If you only want to grab a single item from a list, you can retrieve that item by *index*. For example, let's say we only want the first name in our list (Aaron). We could try something like this:"
   ]
  },
  {
   "cell_type": "code",
   "execution_count": 6,
   "metadata": {
    "collapsed": false
   },
   "outputs": [
    {
     "data": {
      "text/plain": [
       "'Sue'"
      ]
     },
     "execution_count": 6,
     "metadata": {},
     "output_type": "execute_result"
    }
   ],
   "source": [
    "my_friends[1]"
   ]
  },
  {
   "cell_type": "markdown",
   "metadata": {},
   "source": [
    "*Huh?!?!* That didn't work as expected. This is because indexing in Python is always *zero-based*, which basically just means the first item in a collection is at position 0, the second item is at position 1 and so on. If that sounds confusing, don't worry about it. There actually are very good, logical reasons for this behavior that we won't dive into here. For now, just accept it. We're moving on!\n",
    "\n",
    "So we get Aaron by requesting index 0 from our list:"
   ]
  },
  {
   "cell_type": "code",
   "execution_count": 7,
   "metadata": {
    "collapsed": false
   },
   "outputs": [
    {
     "data": {
      "text/plain": [
       "'Aaron'"
      ]
     },
     "execution_count": 7,
     "metadata": {},
     "output_type": "execute_result"
    }
   ],
   "source": [
    "my_friends[0]"
   ]
  },
  {
   "cell_type": "markdown",
   "metadata": {},
   "source": [
    "Much better!\n",
    "\n",
    "We also can retrieve a *slice* of names in our list like this:"
   ]
  },
  {
   "cell_type": "code",
   "execution_count": 8,
   "metadata": {
    "collapsed": false
   },
   "outputs": [
    {
     "data": {
      "text/plain": [
       "['Aaron', 'Sue', 'Chris']"
      ]
     },
     "execution_count": 8,
     "metadata": {},
     "output_type": "execute_result"
    }
   ],
   "source": [
    "my_friends[0:3]"
   ]
  },
  {
   "cell_type": "markdown",
   "metadata": {},
   "source": [
    "If we want to translate the above statement into English, we'd say: \"From my_friends, give me a list of names from the name at index 0 up to, but not including, the name at index 3.\" We realize this is confusing. Let's dive into the weeds for just a moment:\n",
    "\n",
    "When you type this:<br />\n",
    "`my_friends`\n",
    "\n",
    "It means the same as this:<br />\n",
    "`my_friends[0:`*length_of_our_list*`] # In this example, the length of our list is 5.`<br />\n",
    "\n",
    "So in English, we're saying: \"From my_friends, give me a list of names from the name at index 0 up to, but not including, the name at index 5.\" This gives us the entire list without raising an error (because there is no name at index 5). You also could type `my_friends[:]`\n",
    "\n",
    "Go ahead and try it!"
   ]
  },
  {
   "cell_type": "code",
   "execution_count": 9,
   "metadata": {
    "collapsed": false
   },
   "outputs": [
    {
     "data": {
      "text/plain": [
       "['Aaron', 'Sue', 'Chris', 'Renee', 'Cora']"
      ]
     },
     "execution_count": 9,
     "metadata": {},
     "output_type": "execute_result"
    }
   ],
   "source": [
    "my_friends[:]"
   ]
  },
  {
   "cell_type": "markdown",
   "metadata": {},
   "source": [
    "## Variables and mutable objects\n",
    "In other programming languages, it's common to *assign* a value (such as a number, string or list) to a variable. Python works a bit differently. In our example above, Python creates a list in memory to house the names of our friends and then creates the object *my_friends* to *point* to this list. Why is that important? Well, for one thing, it means that if we make a copy of a list, Python keeps only one list in memory and just creates a second pointer. While this is not a concern in our example code, it might matter for a large list containing hundreds or even thousands of objects:"
   ]
  },
  {
   "cell_type": "code",
   "execution_count": 10,
   "metadata": {
    "collapsed": false
   },
   "outputs": [
    {
     "name": "stdout",
     "output_type": "stream",
     "text": [
      "My friends are: \n",
      "['Aaron', 'Sue', 'Chris', 'Renee', 'Cora']\n",
      "\n",
      "And your friends are: \n",
      "['Aaron', 'Sue', 'Chris', 'Renee', 'Cora']\n"
     ]
    }
   ],
   "source": [
    "your_friends = my_friends\n",
    "print('My friends are: ')\n",
    "print(my_friends)\n",
    "\n",
    "print('\\nAnd your friends are: ') # \\n is code for newline.\n",
    "print(your_friends)"
   ]
  },
  {
   "cell_type": "markdown",
   "metadata": {},
   "source": [
    "Here's where mutability will bite you, if you're not careful. You haven't met Cora yet and don't know how nice she is, so you decide to remove her from your list of friends, at least for now:"
   ]
  },
  {
   "cell_type": "code",
   "execution_count": 11,
   "metadata": {
    "collapsed": false
   },
   "outputs": [
    {
     "data": {
      "text/plain": [
       "['Aaron', 'Sue', 'Chris', 'Renee']"
      ]
     },
     "execution_count": 11,
     "metadata": {},
     "output_type": "execute_result"
    }
   ],
   "source": [
    "your_friends.remove('Cora')\n",
    "your_friends"
   ]
  },
  {
   "cell_type": "markdown",
   "metadata": {},
   "source": [
    "Perfect! Or is it? Let's take another look at my_friends:"
   ]
  },
  {
   "cell_type": "code",
   "execution_count": 12,
   "metadata": {
    "collapsed": false
   },
   "outputs": [
    {
     "data": {
      "text/plain": [
       "['Aaron', 'Sue', 'Chris', 'Renee']"
      ]
     },
     "execution_count": 12,
     "metadata": {},
     "output_type": "execute_result"
    }
   ],
   "source": [
    "my_friends"
   ]
  },
  {
   "cell_type": "markdown",
   "metadata": {},
   "source": [
    "Uh-oh! You've unfriended Cora for me too! If you want to be able to modify a copy of a list without changing the original, you have to explicitly tell Python to make a copy. Let's add Cora back in, make a copy and then remove her just from the copy:"
   ]
  },
  {
   "cell_type": "code",
   "execution_count": 13,
   "metadata": {
    "collapsed": false
   },
   "outputs": [
    {
     "name": "stdout",
     "output_type": "stream",
     "text": [
      "My friends:\n",
      "\n",
      "['Aaron', 'Sue', 'Chris', 'Renee', 'Cora']\n",
      "\n",
      "Is Cora still my friend?\n",
      "['Aaron', 'Sue', 'Chris', 'Renee', 'Cora']\n",
      "Yes she is!\n",
      "\n",
      "And your friends are: \n",
      "['Aaron', 'Sue', 'Chris', 'Renee']\n"
     ]
    }
   ],
   "source": [
    "my_friends.append('Cora')\n",
    "print('My friends:\\n')\n",
    "print(my_friends)\n",
    "your_friends = my_friends.copy() # copy() is another method!\n",
    "your_friends.remove('Cora')\n",
    "print('\\nIs Cora still my friend?')\n",
    "print(my_friends)\n",
    "\n",
    "print('Yes she is!\\n\\nAnd your friends are: ')\n",
    "print(your_friends)"
   ]
  },
  {
   "cell_type": "code",
   "execution_count": null,
   "metadata": {
    "collapsed": true
   },
   "outputs": [],
   "source": [
    ""
   ]
  }
 ],
 "metadata": {
  "kernelspec": {
   "display_name": "Python 3",
   "language": "python",
   "name": "python3"
  },
  "language_info": {
   "codemirror_mode": {
    "name": "ipython",
    "version": 3.0
   },
   "file_extension": ".py",
   "mimetype": "text/x-python",
   "name": "python",
   "nbconvert_exporter": "python",
   "pygments_lexer": "ipython3",
   "version": "3.4.4"
  }
 },
 "nbformat": 4,
 "nbformat_minor": 0
}